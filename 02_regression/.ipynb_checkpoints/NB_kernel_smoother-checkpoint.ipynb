{
 "cells": [
  {
   "cell_type": "code",
   "execution_count": 1,
   "metadata": {
    "collapsed": false
   },
   "outputs": [
    {
     "name": "stdout",
     "output_type": "stream",
     "text": [
      "Populating the interactive namespace from numpy and matplotlib\n"
     ]
    }
   ],
   "source": [
    "%pylab inline\n",
    "from numpy import exp, dot, linspace, power, eye, array, sin, cos, pi, diag, log, sum, sqrt\n",
    "from numpy.linalg import norm, solve, inv, svd, cholesky\n",
    "from matplotlib.pylab import plt, scatter"
   ]
  },
  {
   "cell_type": "code",
   "execution_count": 56,
   "metadata": {
    "collapsed": true
   },
   "outputs": [],
   "source": [
    "def covariance( x_1, x_2 ):\n",
    "    # Squared Exponential covariance function\n",
    "    l = 6.4 # length-scale parameter\n",
    "    return exp( - power(norm(x_1 - x_2)/l, 2  ) * 0.5 )\n",
    "\n",
    "def feature(x):\n",
    "    return array( [ 1, (x+5)*(x+10)/2, x] )\n",
    "    #return array( [1, sin(x), cos(x)] )\n",
    "\n",
    "def equivKer(x, xlist):\n",
    "    x_feature = array( [feature(xi) for xi in xlist] )\n",
    "    ker = array( [covariance(feature(x), x_i) for x_i in x_feature] )\n",
    "    weighted_ker = ker / sum(ker)\n",
    "    return weighted_ker"
   ]
  },
  {
   "cell_type": "markdown",
   "metadata": {},
   "source": [
    "## 生成訓練集"
   ]
  },
  {
   "cell_type": "code",
   "execution_count": 42,
   "metadata": {
    "collapsed": true
   },
   "outputs": [],
   "source": [
    "x = linspace(0, 2*pi, 5)\n",
    "y = cos(x)"
   ]
  },
  {
   "cell_type": "markdown",
   "metadata": {},
   "source": [
    "# Modeling: Parameters estimation"
   ]
  },
  {
   "cell_type": "code",
   "execution_count": 35,
   "metadata": {
    "collapsed": true
   },
   "outputs": [],
   "source": [
    "noise_level = 0"
   ]
  },
  {
   "cell_type": "markdown",
   "metadata": {},
   "source": [
    "# Prediction"
   ]
  },
  {
   "cell_type": "code",
   "execution_count": 57,
   "metadata": {
    "collapsed": false
   },
   "outputs": [],
   "source": [
    "x_star = linspace(0, 2*pi, 1000)\n",
    "y_star = linspace(0, 2*pi, 1000)\n",
    "for i in range(1000):\n",
    "    y_star[i] = dot( equivKer(x_star[i], x), y )"
   ]
  },
  {
   "cell_type": "markdown",
   "metadata": {},
   "source": [
    "# Visualization"
   ]
  },
  {
   "cell_type": "code",
   "execution_count": 58,
   "metadata": {
    "collapsed": false
   },
   "outputs": [
    {
     "data": {
      "image/png": "[encoded data removed]",
      "text/plain": [
       "<matplotlib.figure.Figure at 0x10c79c890>"
      ]
     },
     "metadata": {},
     "output_type": "display_data"
    }
   ],
   "source": [
    "plt.plot(x_star, y_star)\n",
    "#plt.plot(x_star, y_star+100*diag(var_star))\n",
    "#plt.plot(x_star, y_star-100*diag(var_star))\n",
    "#plt.plot(x_star, sin(x_star))\n",
    "#for i in range(x.size):\n",
    "    #plt.scatter( x[i], y[i] )\n",
    "plt.show()"
   ]
  },
  {
   "cell_type": "code",
   "execution_count": null,
   "metadata": {
    "collapsed": true
   },
   "outputs": [],
   "source": []
  }
 ],
 "metadata": {
  "kernelspec": {
   "display_name": "Python 2",
   "language": "python",
   "name": "python2"
  },
  "language_info": {
   "codemirror_mode": {
    "name": "ipython",
    "version": 2
   },
   "file_extension": ".py",
   "mimetype": "text/x-python",
   "name": "python",
   "nbconvert_exporter": "python",
   "pygments_lexer": "ipython2",
   "version": "2.7.12"
  }
 },
 "nbformat": 4,
 "nbformat_minor": 0
}
